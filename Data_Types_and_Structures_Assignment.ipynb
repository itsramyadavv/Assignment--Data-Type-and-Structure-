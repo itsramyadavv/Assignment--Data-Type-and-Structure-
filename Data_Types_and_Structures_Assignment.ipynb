{
  "nbformat": 4,
  "nbformat_minor": 0,
  "metadata": {
    "colab": {
      "provenance": []
    },
    "kernelspec": {
      "name": "python3",
      "display_name": "Python 3"
    },
    "language_info": {
      "name": "python"
    }
  },
  "cells": [
    {
      "cell_type": "markdown",
      "source": [
        "### Theories"
      ],
      "metadata": {
        "id": "v_jPboP-o4Qn"
      }
    },
    {
      "cell_type": "markdown",
      "source": [
        "#  Q1 What are data structures, and why are they important?\n",
        "    \n",
        "  Ans: data structures is a process of organizing and storing data that could be use in future."
      ],
      "metadata": {
        "id": "CZ1owAVjaVUN"
      }
    },
    {
      "cell_type": "markdown",
      "source": [
        "### Q2  Explain the difference between mutable and immutable data types with examples?\n",
        "\n",
        " Ans: The differnce between mutable and immutable\n",
        "        \n",
        "        - mutable is where we can mutate a data structure.example- list,mutable\n",
        "\n",
        "        - immutable is where we can not mutate our data structure.example- string, tuples\n",
        "\n",
        "\n"
      ],
      "metadata": {
        "id": "jaG1hah0bLcs"
      }
    },
    {
      "cell_type": "markdown",
      "source": [
        "### Q3  What are the main differences between lists and tuples in Python?\n",
        "\n",
        "Ans: The main difference between list and tuples is based on mutability of data structure\n",
        "\n",
        "      - list is mutable whereas tupes is immutable\n"
      ],
      "metadata": {
        "id": "51A8syKwcxeb"
      }
    },
    {
      "cell_type": "markdown",
      "metadata": {
        "id": "5878ae26"
      },
      "source": [
        "### Q4 Describe how dictionaries store data?\n",
        "\n",
        "Ans: dictionaries store data as key-value pairs, where each key is unique and maps to a corresponding value.\n",
        "\n",
        "- They are unordered.\n",
        "\n",
        "- Unlike lists or tuples, dictionaries are unordered, meaning the items are not stored in a specific sequence.\n",
        "\n",
        "- They are mutable, so you can add, remove, or change key-value pairs.\n"
      ]
    },
    {
      "cell_type": "markdown",
      "source": [
        "### Q5 Why might you use a set instead of a list in Python\n",
        "\n",
        "\n",
        "ans - we use a set instead of a list when:\n",
        "\n",
        "we need only unique elements.\n",
        "we need fast membership tests (checking if an item is in the collection).\n",
        "we need to perform set operations (like union or intersection or diference)"
      ],
      "metadata": {
        "id": "tX-1PVZwfhZ1"
      }
    },
    {
      "cell_type": "markdown",
      "metadata": {
        "id": "1711bd90"
      },
      "source": [
        "### Q6 What is a string in Python, and how is it different from a list?\n",
        "\n",
        "Ans: A string in Python is a sequence of characters, used to represent text in double qotes. It's different from a list in that strings are immutable (cannot be changed after creation),\n",
        "\n",
        " while lists are mutable (can be modified). Also, strings are specifically for text, while lists can contain elements of any data type."
      ]
    },
    {
      "cell_type": "markdown",
      "metadata": {
        "id": "4dbe43dc"
      },
      "source": [
        "### Q7 How do tuples ensure data integrity in Python?\n",
        "\n",
        "Ans: Tuples ensure data integrity because they are immutable. Once a tuple is created, its elements cannot be changed, added, or removed. This prevents accidental modification of the data they hold, making them suitable for storing data that should remain constant."
      ]
    },
    {
      "cell_type": "markdown",
      "metadata": {
        "id": "0da336e4"
      },
      "source": [
        "### Q8 What is a hash table, and how does it relate to dictionaries in Python?\n",
        "\n",
        "Ans: A hash table is a data structure that stores data in key-value pairs. It uses a hash function to compute an index into an array of buckets or slots, from which the desired value can be found. Python dictionaries are implemented using hash tables.\n",
        "\n",
        "- This allows for efficient insertion, deletion, and retrieval of data based on the keys."
      ]
    },
    {
      "cell_type": "markdown",
      "metadata": {
        "id": "9278eb98"
      },
      "source": [
        "### Q9 Can lists contain different data types in Python?\n",
        "\n",
        "Ans: Yes, lists in Python can contain elements of different data types. a single list can include integers, floats, strings, booleans, other lists, tuples, dictionaries, and objects. This makes lists very flexible for storing heterogeneous collections of data."
      ]
    },
    {
      "cell_type": "markdown",
      "metadata": {
        "id": "0783ebf1"
      },
      "source": [
        "### Q10 Explain why strings are immutable in Python.\n",
        "\n",
        "Ans: Strings in Python are immutable, meaning that once a string object is created, its contents cannot be changed.when we run any operation that appears to modify a string, such as concatenation or slicing, actually creates a new string object with the desired changes."
      ]
    },
    {
      "cell_type": "markdown",
      "metadata": {
        "id": "e0a06e21"
      },
      "source": [
        "### Q11 What advantages do dictionaries offer over lists for certain tasks?\n",
        "\n",
        "Ans: Dictionaries are great for quick lookups using keys, like finding a student's grade by their name. Lists are better for ordered collections where you access items by their position (index)."
      ]
    },
    {
      "cell_type": "markdown",
      "metadata": {
        "id": "7b9dec38"
      },
      "source": [
        "### Q12 How do sets handle duplicate values in Python?\n",
        "\n",
        "Ans: Sets is automatically remove duplicate values. If you try to add a value that's already in the set, it just ignores it. Sets only keep unique items.\n",
        "\n",
        "it is the core principle of sets in maths\n",
        "\n",
        "it noly contains unique element"
      ]
    },
    {
      "cell_type": "markdown",
      "metadata": {
        "id": "a2ee5d03"
      },
      "source": [
        "### Q13 Describe a scenario where using a tuple would be preferable over a list.\n",
        "\n",
        "Ans: Use a tuple when you have a collection of related items that shouldn't change,\n",
        "\n",
        "like the information of the addhar card, and coordinates (x, y) or the days of the week. Tuples protect data integrity because they are immutable."
      ]
    },
    {
      "cell_type": "markdown",
      "metadata": {
        "id": "4a0e6cdd"
      },
      "source": [
        "### Q14 How does the “in” keyword work differently for lists and dictionaries?\n",
        "\n",
        "Ans: For lists, 'in' checks if a value exists anywhere in the list.\n",
        "\n",
        " For dictionaries, 'in' checks if a key exists in the dictionary."
      ]
    },
    {
      "cell_type": "markdown",
      "metadata": {
        "id": "a43d6f21"
      },
      "source": [
        "### Q15 Can you modify the elements of a tuple? Explain why or why not.\n",
        "\n",
        "Ans: No, you cannot modify the elements of a tuple because tuples are immutable. Once created, their contents are fixed.\n",
        "\n",
        " If you need to change the data, you'd need to create a new tuple."
      ]
    },
    {
      "cell_type": "markdown",
      "metadata": {
        "id": "37d61c8d"
      },
      "source": [
        "### Q16 What is a nested dictionary, and give an example of its use case.\n",
        "\n",
        "Ans: A nested dictionary is a dictionary where some of the values are themselves dictionaries.\n",
        "\n",
        " An example is storing information about multiple students, where each student's record is a dictionary inside a main dictionary."
      ]
    },
    {
      "cell_type": "markdown",
      "metadata": {
        "id": "2867b776"
      },
      "source": [
        "### Q17 Describe the time complexity of accessing elements in a dictionary.\n",
        "\n",
        "Ans: Accessing elements in a dictionary by key is typically very fast, on average O(1) (constant time), due to hash tables work."
      ]
    },
    {
      "cell_type": "markdown",
      "metadata": {
        "id": "b45b4ac6"
      },
      "source": [
        "### Q18 In what situations are lists preferred over dictionaries?\n",
        "\n",
        "Ans: we use lists over dictionary when -\n",
        "\n",
        "Lists are preferred when the order of items matters, when you need to access items by their position (index), or when you need to store duplicate items."
      ]
    },
    {
      "cell_type": "markdown",
      "metadata": {
        "id": "3c1efe3e"
      },
      "source": [
        "### Q19 Why are dictionaries considered unordered, and how does that affect data retrieval?\n",
        "\n",
        "Ans: Dictionaries are considered unordered because the order in which you insert items doesn't guarantee that they will be stored or retrieved in that same order.\n",
        "\n",
        " This doesn't affect retrieval by key, which is always fast, but means you can't rely on index-based access like with lists.\n"
      ]
    },
    {
      "cell_type": "markdown",
      "metadata": {
        "id": "a8537a8c"
      },
      "source": [
        "### Q20 Explain the difference between a list and a dictionary in terms of data retrieval.\n",
        "\n",
        "Ans: we retrieve data from a list using its index (position), like `my_list[0]`.\n",
        "\n",
        " we retrieve data from a dictionary using its key, like `my_dict['key_name']`."
      ]
    },
    {
      "cell_type": "markdown",
      "source": [
        "### Practical Question"
      ],
      "metadata": {
        "id": "QyCZm6t3pMlL"
      }
    },
    {
      "cell_type": "code",
      "source": [
        "# Q1 Write a code to create a string with your name and print it?\n",
        "\n",
        "name = \"Ram\"\n",
        "print(name)"
      ],
      "metadata": {
        "colab": {
          "base_uri": "https://localhost:8080/"
        },
        "id": "L9XB8J-QpqrS",
        "outputId": "cd9d87c6-40ae-4c3a-a86d-f5cbbee9d94a"
      },
      "execution_count": null,
      "outputs": [
        {
          "output_type": "stream",
          "name": "stdout",
          "text": [
            "Ram\n"
          ]
        }
      ]
    },
    {
      "cell_type": "code",
      "source": [
        "# Q2 Write a code to find the length of the string \"Hello World\"?\n",
        "\n",
        "greeting = \"Hello World\"\n",
        "print(f\"The total lenght of 'Hello World' is {len(greeting)}\")\n"
      ],
      "metadata": {
        "colab": {
          "base_uri": "https://localhost:8080/"
        },
        "id": "NpAZcK7dqBTl",
        "outputId": "39bd5a0e-fe87-478e-d6f1-d30f5ab5e44f"
      },
      "execution_count": null,
      "outputs": [
        {
          "output_type": "stream",
          "name": "stdout",
          "text": [
            "The total lenght of 'Hello World' is 11\n"
          ]
        }
      ]
    },
    {
      "cell_type": "code",
      "source": [
        "# Q3 Write a code to slice the first 3 characters from the string \"Python Programming\"\n",
        "\n",
        "char = \"Python Programming\"\n",
        "char\n",
        "char[0:3]"
      ],
      "metadata": {
        "colab": {
          "base_uri": "https://localhost:8080/",
          "height": 36
        },
        "id": "Z0wPO1uuqBMj",
        "outputId": "fe3bdc25-dff9-4e44-f1c1-d8fff929ef13"
      },
      "execution_count": null,
      "outputs": [
        {
          "output_type": "execute_result",
          "data": {
            "text/plain": [
              "'Pyt'"
            ],
            "application/vnd.google.colaboratory.intrinsic+json": {
              "type": "string"
            }
          },
          "metadata": {},
          "execution_count": 11
        }
      ]
    },
    {
      "cell_type": "code",
      "source": [
        "# Q4 Write a code to convert the string \"hello\" to uppercase\n",
        "\n",
        "greeting = \"hello\"\n",
        "greeting.upper()"
      ],
      "metadata": {
        "colab": {
          "base_uri": "https://localhost:8080/",
          "height": 36
        },
        "id": "U3UepgIsqBIg",
        "outputId": "07303256-c023-4c4c-9032-25d06399c7d9"
      },
      "execution_count": null,
      "outputs": [
        {
          "output_type": "execute_result",
          "data": {
            "text/plain": [
              "'HELLO'"
            ],
            "application/vnd.google.colaboratory.intrinsic+json": {
              "type": "string"
            }
          },
          "metadata": {},
          "execution_count": 13
        }
      ]
    },
    {
      "cell_type": "code",
      "source": [
        "# Q5 Write a code to replace the word \"apple\" with \"orange\" in the string \"I like apple\"\n",
        "\n",
        "string = \"I like apple\"\n",
        "string.replace(\"apple\",\"orange\")\n"
      ],
      "metadata": {
        "colab": {
          "base_uri": "https://localhost:8080/",
          "height": 36
        },
        "id": "rtluJvLmqBE0",
        "outputId": "a0a7cec3-e6cb-4230-cbac-30256cd36743"
      },
      "execution_count": null,
      "outputs": [
        {
          "output_type": "execute_result",
          "data": {
            "text/plain": [
              "'I like orange'"
            ],
            "application/vnd.google.colaboratory.intrinsic+json": {
              "type": "string"
            }
          },
          "metadata": {},
          "execution_count": 19
        }
      ]
    },
    {
      "cell_type": "code",
      "source": [
        "# Q6 Write a code to create a list with numbers 1 to 5 and print it\n",
        "my_list = list(range(1,6))\n",
        "print(my_list)\n"
      ],
      "metadata": {
        "colab": {
          "base_uri": "https://localhost:8080/"
        },
        "id": "VZf5VPfKqA-8",
        "outputId": "dedfe0cb-2ed4-4dcc-d526-ba8c4141ca9c"
      },
      "execution_count": null,
      "outputs": [
        {
          "output_type": "stream",
          "name": "stdout",
          "text": [
            "[1, 2, 3, 4, 5]\n"
          ]
        }
      ]
    },
    {
      "cell_type": "code",
      "source": [
        "# Q7 Write a code to append the number 10 to the list [1, 2, 3, 4]\n",
        "\n",
        "list = [1,2,3,4]\n",
        "list.append(10)\n",
        "print(list)"
      ],
      "metadata": {
        "colab": {
          "base_uri": "https://localhost:8080/"
        },
        "id": "9NpuTs3AqA3W",
        "outputId": "e2fddb11-91dd-4175-ebdf-5a00387c9e52"
      },
      "execution_count": null,
      "outputs": [
        {
          "output_type": "stream",
          "name": "stdout",
          "text": [
            "[1, 2, 3, 4, 10]\n"
          ]
        }
      ]
    },
    {
      "cell_type": "code",
      "source": [
        "# Q8 Write a code to remove the number 3 from the list [1, 2, 3, 4, 5]\n",
        "\n",
        "rem_list = [1,2,3,4,5]\n",
        "rem_list.remove(3)\n",
        "print(rem_list)"
      ],
      "metadata": {
        "colab": {
          "base_uri": "https://localhost:8080/"
        },
        "id": "99mjB-n7qAzP",
        "outputId": "c47f1fa4-67f3-4a98-ac98-603bdaaf7884"
      },
      "execution_count": null,
      "outputs": [
        {
          "output_type": "stream",
          "name": "stdout",
          "text": [
            "[1, 2, 4, 5]\n"
          ]
        }
      ]
    },
    {
      "cell_type": "code",
      "source": [
        "# Q9 Write a code to access the second element in the list ['a', 'b', 'c', 'd']\n",
        "\n",
        "l = ['a','b','c','d']\n",
        "l[2]\n",
        "print(f\"The second element in l = ['a','b','c','d'] is {l[1]}\"  )"
      ],
      "metadata": {
        "colab": {
          "base_uri": "https://localhost:8080/"
        },
        "id": "zBH_Txe1qAvW",
        "outputId": "810e59dd-a2aa-4b9e-de33-52b3f36e928b"
      },
      "execution_count": null,
      "outputs": [
        {
          "output_type": "stream",
          "name": "stdout",
          "text": [
            "The second element in l = ['a','b','c','d'] is b\n"
          ]
        }
      ]
    },
    {
      "cell_type": "code",
      "source": [
        "# Q10 Write a code to reverse the list [10, 20, 30, 40, 50].\n",
        "\n",
        "rever_list = [10, 20, 30, 40, 50]\n",
        "print(f\"This is the reverse of the list {rever_list[::-1]} \")\n"
      ],
      "metadata": {
        "colab": {
          "base_uri": "https://localhost:8080/"
        },
        "id": "WkirWw6TqAoO",
        "outputId": "d54d3764-e26c-4cf3-ab04-74133143a68f"
      },
      "execution_count": null,
      "outputs": [
        {
          "output_type": "stream",
          "name": "stdout",
          "text": [
            "This is the reverse of the list [50, 40, 30, 20, 10] \n"
          ]
        }
      ]
    },
    {
      "cell_type": "code",
      "source": [
        "# 11. Write a code to create a tuple with the elements 100, 200, 300 and print it.\n",
        "\n",
        "t = (100,200,300)\n",
        "print(t)\n"
      ],
      "metadata": {
        "colab": {
          "base_uri": "https://localhost:8080/"
        },
        "id": "Ze6tE4GwqAgf",
        "outputId": "3f3396fc-4450-4760-c56b-9d71e109e458"
      },
      "execution_count": null,
      "outputs": [
        {
          "output_type": "stream",
          "name": "stdout",
          "text": [
            "(100, 200, 300)\n"
          ]
        }
      ]
    },
    {
      "cell_type": "code",
      "source": [
        "#  12. Write a code to access the second-to-last element of the tuple ('red', 'green', 'blue', 'yellow').\n",
        "tt = ('red','green','blue','yellow')\n",
        "\n",
        "print(f\"The second to last of the tuple is {tt[-2]}\")\n"
      ],
      "metadata": {
        "colab": {
          "base_uri": "https://localhost:8080/"
        },
        "id": "7n80MK3TqAYl",
        "outputId": "6ebf0aff-8f1d-4d85-bd46-76661fcaa6a8"
      },
      "execution_count": null,
      "outputs": [
        {
          "output_type": "stream",
          "name": "stdout",
          "text": [
            "The second to last of the tuple is blue\n"
          ]
        }
      ]
    },
    {
      "cell_type": "code",
      "source": [
        "#  13. Write a code to find the minimum number in the tuple (10, 20, 5, 15).\n",
        "\n",
        "min_tuple = (10, 20, 5, 15)\n",
        "print(f\"The minimum number in this tuple is {min(min_tuple)}\")"
      ],
      "metadata": {
        "colab": {
          "base_uri": "https://localhost:8080/"
        },
        "id": "64wbGXHEqAQY",
        "outputId": "0abb20e3-2b18-47ee-946b-b9142959717e"
      },
      "execution_count": null,
      "outputs": [
        {
          "output_type": "stream",
          "name": "stdout",
          "text": [
            "The minimum number in this tuple is 5\n",
            "The minimum number in this tuple is 20\n"
          ]
        }
      ]
    },
    {
      "cell_type": "code",
      "metadata": {
        "colab": {
          "base_uri": "https://localhost:8080/"
        },
        "id": "f7df9b94",
        "outputId": "5daf714e-0988-42c0-fb1d-115dca51a9b7"
      },
      "source": [
        "#  14. Write a code to find the index of the element \"cat\" in the tuple ('dog', 'cat', 'rabbit').\n",
        "\n",
        "ani_tuple = ('dog', 'cat', 'rabbit')\n",
        "cat_index = ani_tuple.index(\"cat\")\n",
        "print(f\"The index of 'cat' in the tuple is: {cat_index}\")"
      ],
      "execution_count": null,
      "outputs": [
        {
          "output_type": "stream",
          "name": "stdout",
          "text": [
            "The index of 'cat' in the tuple is: 1\n"
          ]
        }
      ]
    },
    {
      "cell_type": "code",
      "metadata": {
        "colab": {
          "base_uri": "https://localhost:8080/"
        },
        "id": "57724374",
        "outputId": "3de32441-2789-4531-acb4-662f75ba78ab"
      },
      "source": [
        "#  15. Write a code to create a tuple containing three different fruits and check if \"kiwi\" is in it.\n",
        "\n",
        "tup = (\"apple\",\"banana\",\"kiwi\")\n",
        "for kiwi in tup:\n",
        "  if kiwi in tup:\n",
        "    print(\"kiwi is in fruit list \")\n",
        "    break"
      ],
      "execution_count": null,
      "outputs": [
        {
          "output_type": "stream",
          "name": "stdout",
          "text": [
            "kiwi is in fruit list \n"
          ]
        }
      ]
    },
    {
      "cell_type": "code",
      "source": [
        "#  16. Write a code to create a set with the elements 'a', 'b', 'c' and print it.\n",
        "\n",
        "my_set = {'a','b','c'}\n",
        "print(my_set)"
      ],
      "metadata": {
        "colab": {
          "base_uri": "https://localhost:8080/"
        },
        "id": "LMt8iwvA6Jx6",
        "outputId": "ad053a98-d9f8-44b9-da8a-9345d17a8b19"
      },
      "execution_count": null,
      "outputs": [
        {
          "output_type": "stream",
          "name": "stdout",
          "text": [
            "{'b', 'a', 'c'}\n"
          ]
        }
      ]
    },
    {
      "cell_type": "code",
      "source": [
        "#  17. Write a code to clear all elements from the set {1, 2, 3, 4, 5}.\n",
        "\n",
        "set = {1, 2, 3, 4, 5}\n",
        "set.clear()"
      ],
      "metadata": {
        "id": "VWxRFwy_6JtE"
      },
      "execution_count": null,
      "outputs": []
    },
    {
      "cell_type": "code",
      "source": [
        "set # here set has been cleared"
      ],
      "metadata": {
        "colab": {
          "base_uri": "https://localhost:8080/"
        },
        "id": "f7XHq9Oz6Jhh",
        "outputId": "226063a1-a7dc-493e-d8ac-ab754005ec86"
      },
      "execution_count": null,
      "outputs": [
        {
          "output_type": "execute_result",
          "data": {
            "text/plain": [
              "set()"
            ]
          },
          "metadata": {},
          "execution_count": 52
        }
      ]
    },
    {
      "cell_type": "code",
      "source": [
        "#  18. Write a code to remove the element 4 from the set {1, 2, 3, 4}.\n",
        "\n",
        "set = {1, 2, 3, 4}\n",
        "set.remove(4)\n",
        "print(set)"
      ],
      "metadata": {
        "colab": {
          "base_uri": "https://localhost:8080/"
        },
        "id": "T2LkwN796Jc1",
        "outputId": "18e40e3c-e0f7-4b79-d926-5c24179b3424"
      },
      "execution_count": null,
      "outputs": [
        {
          "output_type": "stream",
          "name": "stdout",
          "text": [
            "{1, 2, 3}\n"
          ]
        }
      ]
    },
    {
      "cell_type": "code",
      "source": [
        "#  19. Write a code to find the union of two sets {1, 2, 3} and {3, 4, 5}.\n",
        "\n",
        "a = {1,2,3}\n",
        "b = {3,4,5}\n",
        "union = a.union(b)\n",
        "print(union)"
      ],
      "metadata": {
        "colab": {
          "base_uri": "https://localhost:8080/"
        },
        "id": "0XgV3Acg6JXv",
        "outputId": "13a9c3ff-b4b6-42d6-eeb0-388d6a23b603"
      },
      "execution_count": null,
      "outputs": [
        {
          "output_type": "stream",
          "name": "stdout",
          "text": [
            "{1, 2, 3, 4, 5}\n"
          ]
        }
      ]
    },
    {
      "cell_type": "code",
      "source": [
        "#  20. Write a code to find the intersection of two sets {1, 2, 3} and {2, 3, 4}.\n",
        "\n",
        "c = {1,2,3}\n",
        "d = {2,3,4}\n",
        "intersec = a.intersection(b)\n",
        "print(intersec)"
      ],
      "metadata": {
        "colab": {
          "base_uri": "https://localhost:8080/"
        },
        "id": "mn6JZUnk6JO9",
        "outputId": "0d4b4879-8111-412a-a0da-6923ed8def4c"
      },
      "execution_count": null,
      "outputs": [
        {
          "output_type": "stream",
          "name": "stdout",
          "text": [
            "{3}\n"
          ]
        }
      ]
    },
    {
      "cell_type": "code",
      "source": [
        "#  21. Write a code to create a dictionary with the keys \"name\", \"age\", and \"city\", and print it.\n",
        "\n",
        "dic = {\"name\": \"ram\",\n",
        "       \"age\": \"22\",\n",
        "       \"city\": \"Delhi\"}\n",
        "print(dic)"
      ],
      "metadata": {
        "colab": {
          "base_uri": "https://localhost:8080/"
        },
        "id": "VwFUKKMo8mvj",
        "outputId": "3ca39c39-19cf-42ab-cc08-020e2ac5ba4b"
      },
      "execution_count": null,
      "outputs": [
        {
          "output_type": "stream",
          "name": "stdout",
          "text": [
            "{'name': 'ram', 'age': '22', 'city': 'Delhi'}\n"
          ]
        }
      ]
    },
    {
      "cell_type": "code",
      "source": [
        "#  22. Write a code to add a new key-value pair \"country\": \"USA\" to the dictionary {'name': 'John', 'age': 25}.\n",
        "\n",
        "dictionary = {'name': 'John',\n",
        "              'age': 25}\n",
        "\n",
        "dictionary[\"country\"] = \"USA\"\n",
        "print(dictionary)"
      ],
      "metadata": {
        "colab": {
          "base_uri": "https://localhost:8080/"
        },
        "id": "vhgyFtgs8miJ",
        "outputId": "a153a495-1dac-4c14-d7c8-ef7d5bc7bc19"
      },
      "execution_count": null,
      "outputs": [
        {
          "output_type": "stream",
          "name": "stdout",
          "text": [
            "{'name': 'John', 'age': 25, 'country': 'USA'}\n"
          ]
        }
      ]
    },
    {
      "cell_type": "code",
      "source": [
        "#  23. Write a code to access the value associated with the key \"name\" in the dictionary {'name': 'Alice', 'age': 30}.\n",
        "\n",
        "dct = {'name': 'Alice',\n",
        "       'age': 30}\n",
        "\n",
        "print(dct[\"name\"])"
      ],
      "metadata": {
        "colab": {
          "base_uri": "https://localhost:8080/"
        },
        "id": "TSyu1mhL8mV7",
        "outputId": "72c50ca6-171a-422e-c377-3663d3fba91d"
      },
      "execution_count": null,
      "outputs": [
        {
          "output_type": "stream",
          "name": "stdout",
          "text": [
            "Alice\n"
          ]
        }
      ]
    },
    {
      "cell_type": "code",
      "source": [
        "#  24. Write a code to remove the key \"age\" from the dictionary {'name': 'Bob', 'age': 22, 'city': 'New York'}.\n",
        "\n",
        "d = {'name': 'Bob',\n",
        "     'age': 22,\n",
        "     'city': 'New York'}\n",
        "\n",
        "del d[\"age\"]\n",
        "print(d)"
      ],
      "metadata": {
        "colab": {
          "base_uri": "https://localhost:8080/"
        },
        "id": "bSWG_wjDAK11",
        "outputId": "ac8e0b66-f768-4b69-f278-e4c951fb14dc"
      },
      "execution_count": null,
      "outputs": [
        {
          "output_type": "stream",
          "name": "stdout",
          "text": [
            "{'name': 'Bob', 'city': 'New York'}\n"
          ]
        }
      ]
    },
    {
      "cell_type": "code",
      "source": [
        "#  25. Write a code to check if the key \"city\" exists in the dictionary {'name': 'Alice', 'city': 'Paris'}.\n",
        "\n",
        "dd = {'name': 'Alice',\n",
        "      'city': 'Paris'}\n",
        "\n",
        "for city in dd:\n",
        "  if city in dd:\n",
        "    print(\"yes city is in the dictionary.\")\n",
        "    break\n",
        "\n"
      ],
      "metadata": {
        "colab": {
          "base_uri": "https://localhost:8080/"
        },
        "id": "tiGXTwUSAKuh",
        "outputId": "d6dfcceb-03c0-4308-f952-ddb233588688"
      },
      "execution_count": null,
      "outputs": [
        {
          "output_type": "stream",
          "name": "stdout",
          "text": [
            "yes city is in the dictionary.\n"
          ]
        }
      ]
    },
    {
      "cell_type": "code",
      "source": [
        "#  26. Write a code to create a list, a tuple, and a dictionary, and print them all.\n",
        "\n",
        "my_list = [1, 2, 3, 4, 5]\n",
        "my_tuple = (1, 2, 3, 4, 5)\n",
        "my_dict = {\"a\": 1, \"b\": 2, \"c\": 3}\n",
        "\n",
        "print(\"List:\", my_list)\n",
        "print(\"Tuple:\", my_tuple)\n",
        "print(\"Dictionary:\", my_dict)"
      ],
      "metadata": {
        "colab": {
          "base_uri": "https://localhost:8080/"
        },
        "id": "5D9DasCgCIoF",
        "outputId": "18de2d8d-d01f-4164-a466-435c45766654"
      },
      "execution_count": null,
      "outputs": [
        {
          "output_type": "stream",
          "name": "stdout",
          "text": [
            "List: [1, 2, 3, 4, 5]\n",
            "Tuple: (1, 2, 3, 4, 5)\n",
            "Dictionary: {'a': 1, 'b': 2, 'c': 3}\n"
          ]
        }
      ]
    },
    {
      "cell_type": "code",
      "source": [],
      "metadata": {
        "id": "mukzshdsCIhM"
      },
      "execution_count": null,
      "outputs": []
    },
    {
      "cell_type": "code",
      "metadata": {
        "colab": {
          "base_uri": "https://localhost:8080/"
        },
        "id": "4841d9b1",
        "outputId": "49b2f8f2-57d1-464a-f191-bfcdd2c5d6dc"
      },
      "source": [
        "# 27. Write a code to create a list of 5 random numbers between 1 and 100, sort it in ascending order, and print the result(replace).\n",
        "\n",
        "import random\n",
        "\n",
        "random_numbers = random.sample(range(1, 101), 5)\n",
        "random_numbers.sort() # Sort the list in ascending order\n",
        "print(random_numbers)"
      ],
      "execution_count": 12,
      "outputs": [
        {
          "output_type": "stream",
          "name": "stdout",
          "text": [
            "[35, 44, 71, 77, 85]\n"
          ]
        }
      ]
    },
    {
      "cell_type": "code",
      "metadata": {
        "colab": {
          "base_uri": "https://localhost:8080/"
        },
        "id": "5b660525",
        "outputId": "a3fd2902-549f-4cb8-b8cb-ff8e1ef83a28"
      },
      "source": [
        "# 28. Write a code to create a list with strings and print the element at the third index.\n",
        "\n",
        "string_list = [\"apple\", \"banana\", \"cherry\", \"date\", \"strawberry\"]\n",
        "print(string_list[2]) # indexing starts at 0"
      ],
      "execution_count": 2,
      "outputs": [
        {
          "output_type": "stream",
          "name": "stdout",
          "text": [
            "cherry\n"
          ]
        }
      ]
    },
    {
      "cell_type": "code",
      "metadata": {
        "colab": {
          "base_uri": "https://localhost:8080/"
        },
        "id": "964ebb9f",
        "outputId": "2252d2fb-4444-41f5-a606-0ac00b3e3eb5"
      },
      "source": [
        "# 29. Write a code to combine two dictionaries into one and print the result.\n",
        "\n",
        "dict1 = {\"a\": 1,\n",
        "         \"b\": 2}\n",
        "dict2 = {\"c\": 3,\n",
        "         \"d\": 4}\n",
        "\n",
        "combined_dict = {**dict1, **dict2}\n",
        "print(combined_dict)\n"
      ],
      "execution_count": null,
      "outputs": [
        {
          "output_type": "stream",
          "name": "stdout",
          "text": [
            "{'a': 1, 'b': 2, 'c': 3, 'd': 4}\n"
          ]
        }
      ]
    },
    {
      "cell_type": "code",
      "metadata": {
        "id": "376f60f9"
      },
      "source": [
        "# 30. Write a code to convert a list of strings into a set.\n",
        "\n",
        "list_of_strings = [\"apple\", \"banana\", \"cherry\", \"apple\", \"date\", \"banana\"]\n",
        "set_of_strings = set(list_of_strings)\n",
        "print(set_of_strings)"
      ],
      "execution_count": null,
      "outputs": []
    },
    {
      "cell_type": "code",
      "source": [],
      "metadata": {
        "id": "2nQhOJoEWkdX"
      },
      "execution_count": null,
      "outputs": []
    }
  ]
}